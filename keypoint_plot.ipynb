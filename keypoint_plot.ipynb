{
 "cells": [
  {
   "cell_type": "code",
   "execution_count": 2,
   "metadata": {
    "collapsed": true
   },
   "outputs": [],
   "source": [
    "from PIL import Image,ImageDraw\n",
    "import json"
   ]
  },
  {
   "cell_type": "code",
   "execution_count": 3,
   "metadata": {},
   "outputs": [],
   "source": [
    "# load json\n",
    "json_path = '/Users/Evelyn/Desktop/EE148CV/bee-happy/S3_bee_happy_bucket/Annotations/test-keypoint-100demo/consolidated_result.json'\n",
    "for line in open(json_path,'r'):\n",
    "        consolidated_data = json.loads(line)"
   ]
  },
  {
   "cell_type": "code",
   "execution_count": null,
   "metadata": {},
   "outputs": [],
   "source": [
    "consolidated_data[0]"
   ]
  },
  {
   "cell_type": "code",
   "execution_count": null,
   "metadata": {},
   "outputs": [],
   "source": [
    "with Image.open(\"/Users/Evelyn/Desktop/EE148CV/bee-happy/S3_bee_happy_bucket/Datasets/test-keypoint-100demo/0000340.jpg\") as im:\n",
    "\n",
    "    draw = ImageDraw.Draw(im)\n",
    "    draw.point()\n",
    "\n",
    "    # write to stdout\n",
    "    im.save(sys.stdout, \"PNG\")"
   ]
  }
 ],
 "metadata": {
  "kernelspec": {
   "display_name": "Python 2",
   "language": "python",
   "name": "python2"
  },
  "language_info": {
   "codemirror_mode": {
    "name": "ipython",
    "version": 2
   },
   "file_extension": ".py",
   "mimetype": "text/x-python",
   "name": "python",
   "nbconvert_exporter": "python",
   "pygments_lexer": "ipython2",
   "version": "2.7.6"
  }
 },
 "nbformat": 4,
 "nbformat_minor": 0
}
